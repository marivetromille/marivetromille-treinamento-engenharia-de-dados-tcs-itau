{
 "cells": [
  {
   "cell_type": "markdown",
   "metadata": {},
   "source": [
    "## Atividade 2\n",
    "\n",
    "#### Iniciar sessão Spark\n"
   ]
  },
  {
   "cell_type": "code",
   "execution_count": 17,
   "metadata": {},
   "outputs": [],
   "source": [
    "from pyspark.sql import SparkSession\n",
    "from pyspark.sql.functions import col, year, sum, avg\n",
    "\n",
    "spark = SparkSession.builder \\\n",
    "    .appName(\"Atividade\") \\\n",
    "    .getOrCreate()"
   ]
  },
  {
   "cell_type": "markdown",
   "metadata": {},
   "source": [
    "#### Carregar CSV de transações \n"
   ]
  },
  {
   "cell_type": "code",
   "execution_count": 18,
   "metadata": {},
   "outputs": [
    {
     "name": "stdout",
     "output_type": "stream",
     "text": [
      "+------------+----------+-----+--------------+-----------+\n",
      "|id_transacao|id_cliente|valor|data_transacao|  categoria|\n",
      "+------------+----------+-----+--------------+-----------+\n",
      "|           1|         1|100.0|    2023-11-01|    Compras|\n",
      "|           2|         2|200.0|    2023-11-02|Alimentação|\n",
      "|           3|         3|150.0|    2023-11-03|    Compras|\n",
      "|           4|         4|300.0|    2023-11-01|     Viagem|\n",
      "|           5|         5| 50.0|    2023-11-04|Alimentação|\n",
      "+------------+----------+-----+--------------+-----------+\n",
      "\n"
     ]
    }
   ],
   "source": [
    "df = spark.read.csv(\"transacoes.csv\", \n",
    "                   header=True, \n",
    "                   inferSchema=True, \n",
    "                   sep=\",\")\n",
    "df.show()"
   ]
  },
  {
   "cell_type": "markdown",
   "metadata": {},
   "source": [
    "#### Adicionar coluna com ano da transação"
   ]
  },
  {
   "cell_type": "code",
   "execution_count": 19,
   "metadata": {},
   "outputs": [
    {
     "name": "stdout",
     "output_type": "stream",
     "text": [
      "+------------+----------+-----+--------------+-----------+-------------+\n",
      "|id_transacao|id_cliente|valor|data_transacao|  categoria|ano_transacao|\n",
      "+------------+----------+-----+--------------+-----------+-------------+\n",
      "|           1|         1|100.0|    2023-11-01|    Compras|         2023|\n",
      "|           2|         2|200.0|    2023-11-02|Alimentação|         2023|\n",
      "|           3|         3|150.0|    2023-11-03|    Compras|         2023|\n",
      "|           4|         4|300.0|    2023-11-01|     Viagem|         2023|\n",
      "|           5|         5| 50.0|    2023-11-04|Alimentação|         2023|\n",
      "+------------+----------+-----+--------------+-----------+-------------+\n",
      "\n"
     ]
    }
   ],
   "source": [
    "df_com_ano = df.withColumn(\"ano_transacao\", year(col(\"data_transacao\")))\n",
    "df_com_ano.show()"
   ]
  },
  {
   "cell_type": "markdown",
   "metadata": {},
   "source": [
    "#### Agrupar por categoria e calcular métricas"
   ]
  },
  {
   "cell_type": "code",
   "execution_count": 20,
   "metadata": {},
   "outputs": [],
   "source": [
    "resultado_agregado = df_com_ano.groupBy(\"categoria\") \\\n",
    "    .agg(\n",
    "        sum(\"valor\").alias(\"valor_total\"),\n",
    "        avg(\"valor\").alias(\"valor_medio\")\n",
    "    )"
   ]
  },
  {
   "cell_type": "markdown",
   "metadata": {},
   "source": [
    "#### Ordenar por valor_total decrescente"
   ]
  },
  {
   "cell_type": "code",
   "execution_count": 21,
   "metadata": {},
   "outputs": [
    {
     "name": "stdout",
     "output_type": "stream",
     "text": [
      "+-----------+-----------+-----------+\n",
      "|  categoria|valor_total|valor_medio|\n",
      "+-----------+-----------+-----------+\n",
      "|     Viagem|      300.0|      300.0|\n",
      "|    Compras|      250.0|      125.0|\n",
      "|Alimentação|      250.0|      125.0|\n",
      "+-----------+-----------+-----------+\n",
      "\n"
     ]
    }
   ],
   "source": [
    "resultado_final = resultado_agregado.orderBy(col(\"valor_total\").desc())\n",
    "resultado_final.show()"
   ]
  }
 ],
 "metadata": {
  "kernelspec": {
   "display_name": "Python 3",
   "language": "python",
   "name": "python3"
  },
  "language_info": {
   "codemirror_mode": {
    "name": "ipython",
    "version": 3
   },
   "file_extension": ".py",
   "mimetype": "text/x-python",
   "name": "python",
   "nbconvert_exporter": "python",
   "pygments_lexer": "ipython3",
   "version": "3.11.0"
  }
 },
 "nbformat": 4,
 "nbformat_minor": 2
}
