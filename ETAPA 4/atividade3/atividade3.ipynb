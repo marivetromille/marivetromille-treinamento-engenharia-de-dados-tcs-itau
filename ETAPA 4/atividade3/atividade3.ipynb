{
 "cells": [
  {
   "cell_type": "markdown",
   "metadata": {},
   "source": [
    "## Atividade 3\n",
    "\n",
    "#### Iniciar sessão Spark\n"
   ]
  },
  {
   "cell_type": "code",
   "execution_count": 10,
   "metadata": {},
   "outputs": [],
   "source": [
    "from pyspark.sql import SparkSession\n",
    "from pyspark.sql.functions import col, sum\n",
    "\n",
    "spark = SparkSession.builder \\\n",
    "    .appName(\"Atividade3\") \\\n",
    "    .getOrCreate()\n"
   ]
  },
  {
   "cell_type": "markdown",
   "metadata": {},
   "source": [
    "#### Carregar ambos os arquivos CSV \n"
   ]
  },
  {
   "cell_type": "code",
   "execution_count": 11,
   "metadata": {},
   "outputs": [
    {
     "name": "stdout",
     "output_type": "stream",
     "text": [
      "+----------+-----+-----+--------------+\n",
      "|id_cliente| nome|idade|        cidade|\n",
      "+----------+-----+-----+--------------+\n",
      "|         1| João|   35|     São Paulo|\n",
      "|         2|Maria|   25|Rio de Janeiro|\n",
      "|         3| José|   40|      Curitiba|\n",
      "|         4|  Ana|   28|     São Paulo|\n",
      "|         5|Paulo|   50|Belo Horizonte|\n",
      "+----------+-----+-----+--------------+\n",
      "\n",
      "+------------+----------+-----+--------------+-----------+\n",
      "|id_transacao|id_cliente|valor|data_transacao|  categoria|\n",
      "+------------+----------+-----+--------------+-----------+\n",
      "|           1|         1|100.0|    2023-11-01|    Compras|\n",
      "|           2|         2|200.0|    2023-11-02|Alimentação|\n",
      "|           3|         3|150.0|    2023-11-03|    Compras|\n",
      "|           4|         4|300.0|    2023-11-01|     Viagem|\n",
      "|           5|         5| 50.0|    2023-11-04|Alimentação|\n",
      "+------------+----------+-----+--------------+-----------+\n",
      "\n"
     ]
    }
   ],
   "source": [
    "df_clientes = spark.read.csv(\"clientes.csv\", header=True, inferSchema=True)\n",
    "df_transacoes = spark.read.csv(\"transacoes.csv\", header=True, inferSchema=True)\n",
    "\n",
    "df_clientes.show()\n",
    "df_transacoes.show()"
   ]
  },
  {
   "cell_type": "markdown",
   "metadata": {},
   "source": [
    "#### Realizar o join entre os DataFrames"
   ]
  },
  {
   "cell_type": "code",
   "execution_count": 12,
   "metadata": {},
   "outputs": [
    {
     "name": "stdout",
     "output_type": "stream",
     "text": [
      "+----------+------------+-----+--------------+-----------+-----+-----+--------------+\n",
      "|id_cliente|id_transacao|valor|data_transacao|  categoria| nome|idade|        cidade|\n",
      "+----------+------------+-----+--------------+-----------+-----+-----+--------------+\n",
      "|         1|           1|100.0|    2023-11-01|    Compras| João|   35|     São Paulo|\n",
      "|         2|           2|200.0|    2023-11-02|Alimentação|Maria|   25|Rio de Janeiro|\n",
      "|         3|           3|150.0|    2023-11-03|    Compras| José|   40|      Curitiba|\n",
      "|         4|           4|300.0|    2023-11-01|     Viagem|  Ana|   28|     São Paulo|\n",
      "|         5|           5| 50.0|    2023-11-04|Alimentação|Paulo|   50|Belo Horizonte|\n",
      "+----------+------------+-----+--------------+-----------+-----+-----+--------------+\n",
      "\n"
     ]
    }
   ],
   "source": [
    "df_joined = df_transacoes.join(\n",
    "    df_clientes,\n",
    "    on=\"id_cliente\",\n",
    "    how=\"inner\"\n",
    ")\n",
    "\n",
    "df_joined.show()\n"
   ]
  },
  {
   "cell_type": "markdown",
   "metadata": {},
   "source": [
    "#### Calcular o valor total de transações por cliente\n"
   ]
  },
  {
   "cell_type": "code",
   "execution_count": 13,
   "metadata": {},
   "outputs": [
    {
     "name": "stdout",
     "output_type": "stream",
     "text": [
      "+----------+-----+----------------+\n",
      "|id_cliente| nome|total_transacoes|\n",
      "+----------+-----+----------------+\n",
      "|         3| José|           150.0|\n",
      "|         5|Paulo|            50.0|\n",
      "|         4|  Ana|           300.0|\n",
      "|         1| João|           100.0|\n",
      "|         2|Maria|           200.0|\n",
      "+----------+-----+----------------+\n",
      "\n"
     ]
    }
   ],
   "source": [
    "df_total_transacoes = df_joined.groupBy(\"id_cliente\", \"nome\") \\\n",
    "    .agg(sum(\"valor\").alias(\"total_transacoes\"))\n",
    "\n",
    "df_total_transacoes.show()"
   ]
  },
  {
   "cell_type": "markdown",
   "metadata": {},
   "source": [
    "#### Identificar o cliente com o maior volume"
   ]
  },
  {
   "cell_type": "code",
   "execution_count": 14,
   "metadata": {},
   "outputs": [
    {
     "name": "stdout",
     "output_type": "stream",
     "text": [
      "\n",
      "Cliente com maior volume: \n",
      "Nome: Ana\n",
      "ID: 4\n",
      "Total: R$300.00\n",
      "\n"
     ]
    }
   ],
   "source": [
    "cliente_maior_volume = df_total_transacoes.orderBy(col(\"total_transacoes\").desc()).first()\n",
    "\n",
    "print(f\"\"\"\n",
    "Cliente com maior volume: \n",
    "Nome: {cliente_maior_volume['nome']}\n",
    "ID: {cliente_maior_volume['id_cliente']}\n",
    "Total: R${cliente_maior_volume['total_transacoes']:.2f}\n",
    "\"\"\")"
   ]
  }
 ],
 "metadata": {
  "kernelspec": {
   "display_name": "Python 3",
   "language": "python",
   "name": "python3"
  },
  "language_info": {
   "codemirror_mode": {
    "name": "ipython",
    "version": 3
   },
   "file_extension": ".py",
   "mimetype": "text/x-python",
   "name": "python",
   "nbconvert_exporter": "python",
   "pygments_lexer": "ipython3",
   "version": "3.11.0"
  }
 },
 "nbformat": 4,
 "nbformat_minor": 2
}
