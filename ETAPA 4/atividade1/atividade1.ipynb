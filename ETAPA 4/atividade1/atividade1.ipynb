{
 "cells": [
  {
   "cell_type": "markdown",
   "metadata": {},
   "source": [
    "## Atividade 1\n",
    "\n",
    "#### Iniciar sessão Spark\n"
   ]
  },
  {
   "cell_type": "code",
   "execution_count": 11,
   "metadata": {},
   "outputs": [],
   "source": [
    "from pyspark.sql import SparkSession\n",
    "from pyspark.sql.functions import col\n",
    "\n",
    "spark = SparkSession.builder \\\n",
    "    .appName(\"Atividade1\") \\\n",
    "    .getOrCreate()"
   ]
  },
  {
   "cell_type": "markdown",
   "metadata": {},
   "source": [
    "#### Carregar CSV\n"
   ]
  },
  {
   "cell_type": "code",
   "execution_count": 8,
   "metadata": {},
   "outputs": [
    {
     "name": "stdout",
     "output_type": "stream",
     "text": [
      "+----------+-----+-----+--------------+\n",
      "|id_cliente| nome|idade|        cidade|\n",
      "+----------+-----+-----+--------------+\n",
      "|         1| João|   35|     São Paulo|\n",
      "|         2|Maria|   25|Rio de Janeiro|\n",
      "|         3| José|   40|      Curitiba|\n",
      "|         4|  Ana|   28|     São Paulo|\n",
      "|         5|Paulo|   50|Belo Horizonte|\n",
      "+----------+-----+-----+--------------+\n",
      "\n"
     ]
    }
   ],
   "source": [
    "df = spark.read.csv(\"/C:/Users/Fred/mariana-dados/ETAPA 4/atividade1/clientes.csv\", \n",
    "                    header=True, \n",
    "                    inferSchema=True, \n",
    "                    sep=\",\")  # ou sep=\"\\t\" se o arquivo usar tabs\n",
    "df.show()"
   ]
  },
  {
   "cell_type": "markdown",
   "metadata": {},
   "source": [
    "#### Selecionar as colunas nome, idade e cidade"
   ]
  },
  {
   "cell_type": "code",
   "execution_count": 9,
   "metadata": {},
   "outputs": [
    {
     "name": "stdout",
     "output_type": "stream",
     "text": [
      "+-----+-----+--------------+\n",
      "| nome|idade|        cidade|\n",
      "+-----+-----+--------------+\n",
      "| João|   35|     São Paulo|\n",
      "|Maria|   25|Rio de Janeiro|\n",
      "| José|   40|      Curitiba|\n",
      "|  Ana|   28|     São Paulo|\n",
      "|Paulo|   50|Belo Horizonte|\n",
      "+-----+-----+--------------+\n",
      "\n"
     ]
    }
   ],
   "source": [
    "colunas_selecionadas = df.select(\"nome\", \"idade\", \"cidade\")\n",
    "colunas_selecionadas.show()"
   ]
  },
  {
   "cell_type": "markdown",
   "metadata": {},
   "source": [
    "#### Filtrar clientes acima de 30"
   ]
  },
  {
   "cell_type": "code",
   "execution_count": 12,
   "metadata": {},
   "outputs": [
    {
     "name": "stdout",
     "output_type": "stream",
     "text": [
      "+-----+-----+--------------+\n",
      "| nome|idade|        cidade|\n",
      "+-----+-----+--------------+\n",
      "| João|   35|     São Paulo|\n",
      "| José|   40|      Curitiba|\n",
      "|Paulo|   50|Belo Horizonte|\n",
      "+-----+-----+--------------+\n",
      "\n"
     ]
    }
   ],
   "source": [
    "clientes_acima_30 = colunas_selecionadas.filter(col(\"idade\") > 30)\n",
    "clientes_acima_30.show()"
   ]
  },
  {
   "cell_type": "markdown",
   "metadata": {},
   "source": [
    "#### Contar clientes de São Paulo"
   ]
  },
  {
   "cell_type": "code",
   "execution_count": 13,
   "metadata": {},
   "outputs": [
    {
     "name": "stdout",
     "output_type": "stream",
     "text": [
      "Clientes em São Paulo: 2\n"
     ]
    }
   ],
   "source": [
    "contagem_sp = colunas_selecionadas.filter(col(\"cidade\") == \"São Paulo\").count()\n",
    "print(f\"Clientes em São Paulo: {contagem_sp}\")"
   ]
  }
 ],
 "metadata": {
  "kernelspec": {
   "display_name": "Python 3",
   "language": "python",
   "name": "python3"
  },
  "language_info": {
   "codemirror_mode": {
    "name": "ipython",
    "version": 3
   },
   "file_extension": ".py",
   "mimetype": "text/x-python",
   "name": "python",
   "nbconvert_exporter": "python",
   "pygments_lexer": "ipython3",
   "version": "3.11.0"
  }
 },
 "nbformat": 4,
 "nbformat_minor": 2
}
