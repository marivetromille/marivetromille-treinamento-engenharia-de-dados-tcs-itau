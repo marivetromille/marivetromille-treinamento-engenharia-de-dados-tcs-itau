{
 "cells": [
  {
   "cell_type": "markdown",
   "metadata": {},
   "source": [
    "## Atividade 4\n",
    "\n",
    "### Filtrar clientes com idade > 30\n",
    "\n",
    "##### Com Pandas"
   ]
  },
  {
   "cell_type": "code",
   "execution_count": null,
   "metadata": {},
   "outputs": [],
   "source": [
    "import pandas as pd\n",
    "\n",
    "# Carregar dados\n",
    "clientes_pandas = pd.read_csv(\"clientes.csv\")\n",
    "\n",
    "# Filtro\n",
    "clientes_acima_30_pandas = clientes_pandas[clientes_pandas['idade'] > 30]\n",
    "\n",
    "# Resultado: 0.0s"
   ]
  },
  {
   "cell_type": "markdown",
   "metadata": {},
   "source": [
    "##### Com PySpark"
   ]
  },
  {
   "cell_type": "code",
   "execution_count": null,
   "metadata": {},
   "outputs": [],
   "source": [
    "from pyspark.sql import SparkSession\n",
    "from pyspark.sql.functions import col\n",
    "\n",
    "spark = SparkSession.builder.getOrCreate()\n",
    "clientes_spark = spark.read.csv(\"clientes.csv\", header=True, inferSchema=True)\n",
    "\n",
    "# Filtro\n",
    "clientes_acima_30_spark = clientes_spark.filter(col(\"idade\") > 30)\n",
    "\n",
    "# Resultado: 1m e 1.8s"
   ]
  },
  {
   "cell_type": "markdown",
   "metadata": {},
   "source": [
    "### Agrupar transações por categoria e calcular valor total\n",
    "\n",
    "##### Com Pandas"
   ]
  },
  {
   "cell_type": "code",
   "execution_count": null,
   "metadata": {},
   "outputs": [],
   "source": [
    "transacoes_pandas = pd.read_csv(\"transacoes.csv\")\n",
    "\n",
    "# Agrupamento\n",
    "agrupado_pandas = transacoes_pandas.groupby('categoria')['valor'].sum().reset_index()\n",
    "\n",
    "# Resultado: 0.5s"
   ]
  },
  {
   "cell_type": "markdown",
   "metadata": {},
   "source": [
    "##### Com PySpark\n"
   ]
  },
  {
   "cell_type": "code",
   "execution_count": null,
   "metadata": {},
   "outputs": [],
   "source": [
    "from pyspark.sql.functions import sum\n",
    "\n",
    "transacoes_spark = spark.read.csv(\"transacoes.csv\", header=True, inferSchema=True)\n",
    "\n",
    "# Agrupamento\n",
    "agrupado_spark = transacoes_spark.groupBy(\"categoria\").agg(sum(\"valor\").alias(\"valor_total\"))\n",
    "\n",
    "# Resultado: 3.0s"
   ]
  },
  {
   "cell_type": "markdown",
   "metadata": {},
   "source": [
    "##### Comparação de tempo entre as APIs\n",
    "\n",
    "| Operação    | Pandas     | PySpark      |\n",
    "|-------------|------------|--------------|\n",
    "| Filtrar     | 0.0s       | 1m 1.8s      |\n",
    "| Agrupamento | 0.5s       | 3.0s         |\n",
    "\n",
    "\n",
    "\n",
    "* Por que PySpark é mais lento?\n",
    "\n",
    "O PySpark tem overhead inicial (criação de sessão, otimizações do Catalyst), mas é mais rápido em grandes volumes (ex: TBs de dados).\n"
   ]
  }
 ],
 "metadata": {
  "kernelspec": {
   "display_name": "Python 3",
   "language": "python",
   "name": "python3"
  },
  "language_info": {
   "codemirror_mode": {
    "name": "ipython",
    "version": 3
   },
   "file_extension": ".py",
   "mimetype": "text/x-python",
   "name": "python",
   "nbconvert_exporter": "python",
   "pygments_lexer": "ipython3",
   "version": "3.11.0"
  }
 },
 "nbformat": 4,
 "nbformat_minor": 2
}
